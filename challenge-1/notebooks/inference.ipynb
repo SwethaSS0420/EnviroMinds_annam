{
 "cells": [
  {
   "cell_type": "markdown",
   "metadata": {},
   "source": [
    "Team Name: EnviroMinds \\\n",
    "Team Members: Sanjana Sudarsan, Swetha Sriram, Lohithaa K M \\\n",
    "Leaderboard Rank: 53"
   ]
  },
  {
   "cell_type": "code",
   "execution_count": null,
   "metadata": {
    "trusted": true
   },
   "outputs": [],
   "source": [
    "pip install efficientnet_pytorch"
   ]
  },
  {
   "cell_type": "markdown",
   "metadata": {},
   "source": [
    "install"
   ]
  },
  {
   "cell_type": "code",
   "execution_count": null,
   "metadata": {
    "trusted": true
   },
   "outputs": [],
   "source": [
    "# inference.py\n",
    "import os, cv2, torch, pandas as pd, numpy as np\n",
    "from PIL import Image\n",
    "from torch.utils.data import Dataset, DataLoader\n",
    "from torchvision import transforms\n",
    "from efficientnet_pytorch import EfficientNet\n",
    "\n",
    "# Configs\n",
    "DATA_DIR = \"/kaggle/input/soil-classification-1/soil_classification-2025\"\n",
    "TEST_IMG = os.path.join(DATA_DIR, \"test\")\n",
    "TEST_IDS = os.path.join(DATA_DIR, \"test_ids.csv\")\n",
    "OUTPUT_DIR = \"/kaggle/working\"\n",
    "DEVICE = torch.device(\"cuda\" if torch.cuda.is_available() else \"cpu\")\n",
    "BATCH_SIZE, NUM_CLASSES, N_FOLDS = 32, 4, 5\n",
    "idx2label = {0: 'Alluvial soil', 1: 'Black Soil', 2: 'Clay soil', 3: 'Red soil'}\n",
    "\n",
    "def load_clahe_image(path):\n",
    "    img = cv2.imread(path)\n",
    "    img = cv2.resize(img, (300, 300))\n",
    "    lab = cv2.cvtColor(img, cv2.COLOR_BGR2LAB)\n",
    "    l, a, b = cv2.split(lab)\n",
    "    cl = cv2.createCLAHE(2.0, (8,8)).apply(l)\n",
    "    return Image.fromarray(cv2.cvtColor(cv2.merge((cl, a, b)), cv2.COLOR_LAB2RGB))\n",
    "\n",
    "transform_val = transforms.Compose([\n",
    "    transforms.Resize((300, 300)),\n",
    "    transforms.ToTensor(),\n",
    "    transforms.Normalize([0.485, 0.456, 0.406], [0.229, 0.224, 0.225])\n",
    "])\n",
    "\n",
    "class TestDataset(Dataset):\n",
    "    def _init_(self, image_ids, img_dir, transform):\n",
    "        self.image_ids, self.img_dir, self.transform = image_ids, img_dir, transform\n",
    "    def _len_(self): return len(self.image_ids)\n",
    "    def _getitem_(self, idx):\n",
    "        img_id = self.image_ids[idx]\n",
    "        img = load_clahe_image(os.path.join(self.img_dir, img_id))\n",
    "        return self.transform(img), img_id\n",
    "\n",
    "test_ids = pd.read_csv(TEST_IDS)\n",
    "test_list = test_ids['image_id'].tolist()\n",
    "test_loader = DataLoader(TestDataset(test_list, TEST_IMG, transform_val), batch_size=BATCH_SIZE, shuffle=False, num_workers=2)\n",
    "\n",
    "ensemble_probs = {img_id: [] for img_id in test_list}\n",
    "for fold in range(N_FOLDS):\n",
    "    model = EfficientNet.from_name('efficientnet-b3')\n",
    "    model._fc = torch.nn.Linear(model._fc.in_features, NUM_CLASSES)\n",
    "    model.load_state_dict(torch.load(f\"{OUTPUT_DIR}/model_fold{fold}.pth\"))\n",
    "    model = model.to(DEVICE).eval()\n",
    "\n",
    "    with torch.no_grad():\n",
    "        for imgs, img_ids in test_loader:\n",
    "            imgs = imgs.to(DEVICE)\n",
    "            probs = model(imgs).cpu().softmax(1).numpy()\n",
    "            for i in range(len(img_ids)):\n",
    "                ensemble_probs[img_ids[i]].append(probs[i])\n",
    "\n",
    "# Write submission\n",
    "out = []\n",
    "for img_id in test_list:\n",
    "    avg = np.mean(ensemble_probs[img_id], axis=0)\n",
    "    out.append({'image_id': img_id, 'soil_type': idx2label[int(avg.argmax())]})\n",
    "\n",
    "pd.DataFrame(out).to_csv(f\"{OUTPUT_DIR}/submission.csv\", index=False)\n",
    "print(\"submission.csv written\")"
   ]
  },
  {
   "cell_type": "markdown",
   "metadata": {},
   "source": [
    "inference"
   ]
  }
 ],
 "metadata": {
  "kaggle": {
   "accelerator": "none",
   "dataSources": [
    {
     "datasetId": 7506944,
     "sourceId": 11941173,
     "sourceType": "datasetVersion"
    }
   ],
   "dockerImageVersionId": 31041,
   "isGpuEnabled": false,
   "isInternetEnabled": true,
   "language": "python",
   "sourceType": "notebook"
  },
  "kernelspec": {
   "display_name": "Python 3",
   "language": "python",
   "name": "python3"
  },
  "language_info": {
   "codemirror_mode": {
    "name": "ipython",
    "version": 3
   },
   "file_extension": ".py",
   "mimetype": "text/x-python",
   "name": "python",
   "nbconvert_exporter": "python",
   "pygments_lexer": "ipython3",
   "version": "3.11.11"
  }
 },
 "nbformat": 4,
 "nbformat_minor": 4
}
